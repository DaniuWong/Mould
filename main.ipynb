{
    "cells": [
        {
            "cell_type": "code",
            "execution_count": 1,
            "source": [
                "import os\n",
                "import pandas as pd\n",
                "import json\n",
                "\n",
                "from dict_process import *\n",
                "\n",
                "sheets = ['传送模设计科', '设计二科', '设计一科', '研磨组', '车铣钻组', 'CNC组', '线割组']"
            ],
            "outputs": [],
            "metadata": {}
        },
        {
            "cell_type": "code",
            "execution_count": 2,
            "source": [
                "with open('dict/touse.json', 'r') as f:\n",
                "    errors = json.load(f)\n",
                "\n",
                "path = '/home/keae/Mould/data'\n",
                "filelist = os.listdir(path)\n",
                "filelist.sort()\n",
                "\n",
                "print('识别错误')\n",
                "for file in filelist[:]:\n",
                "    print(os.path.join(path, file))\n",
                "    dfs = pd.read_excel(os.path.join(path, file), header=1, sheet_name=None)\n",
                "\n",
                "    writer = pd.ExcelWriter('results/'+file+'.xls')\n",
                "    for sheet in sheets[:]:\n",
                "        df = dfs[sheet]\n",
                "        df = df[['异常单编码', '品管异常描述']]\n",
                "        df = df.replace('\\n', '', regex=True)\n",
                "        df[['错误位置', '错误类型', '原文错误']] = pd.DataFrame([['', '', '']], index=df.index)\n",
                "\n",
                "        dfs[sheet] = recog(df, errors[sheet])\n",
                "        dfs[sheet].to_excel(writer, sheet)\n",
                "\n",
                "    writer.save()\n"
            ],
            "outputs": [
                {
                    "output_type": "stream",
                    "name": "stdout",
                    "text": [
                        "识别错误\n",
                        "/home/keae/Mould/data/2017年（9.18-9.24）品质异常一览表（修改）(1).xls\n"
                    ]
                },
                {
                    "output_type": "stream",
                    "name": "stderr",
                    "text": [
                        "/home/keae/Mould/.venv/lib/python3.8/site-packages/IPython/core/interactiveshell.py:3361: FutureWarning: As the xlwt package is no longer maintained, the xlwt engine will be removed in a future version of pandas. This is the only engine in pandas that supports writing in the xls format. Install openpyxl and write to an xlsx file instead. You can set the option io.excel.xls.writer to 'xlwt' to silence this warning. While this option is deprecated and will also raise a warning, it can be globally set and the warning suppressed.\n",
                        "  if (await self.run_code(code, result,  async_=asy)):\n"
                    ]
                },
                {
                    "output_type": "stream",
                    "name": "stdout",
                    "text": [
                        "/home/keae/Mould/data/2017年（9.25-10.8）品质异常一览表（修改）(1).xls\n",
                        "/home/keae/Mould/data/改表2017年（9-01-9..10）.xls\n",
                        "/home/keae/Mould/data/改表2017年（9.11-9.17）.xls\n"
                    ]
                }
            ],
            "metadata": {}
        },
        {
            "cell_type": "code",
            "execution_count": 2,
            "source": [
                "path = '/home/keae/Mould/data'\n",
                "filelist = os.listdir(path)\n",
                "filelist.sort()\n",
                "\n",
                "errors = {}\n",
                "print('生成字典：')\n",
                "for file in filelist[:]:\n",
                "    print(os.path.join(path, file), end=': ')\n",
                "\n",
                "    df = pd.read_excel(os.path.join(path, file), header=1, sheet_name=None)\n",
                "    for sheet in sheets[0:]:\n",
                "        print(sheet, end=',')\n",
                "        tmp = df[sheet]\n",
                "\n",
                "        columns = tmp.columns.values.tolist()\n",
                "        columns = [c.replace('\\n', '').replace(' ', '') for c in columns]\n",
                "        tmp.columns = columns\n",
                "\n",
                "        tmp = tmp[['异常单编码', '品管异常描述', '错误位置1', '错误位置2', '原错误类型', '归纳错误类型']]\n",
                "        tmp = tmp.replace('\\n', '', regex=True)\n",
                "        tmp = tmp.replace(' ', '', regex=True)\n",
                "\n",
                "        if sheet in errors:\n",
                "            error = errors[sheet]\n",
                "        else:\n",
                "            error = {'错误位置': [], '错误类型': {}}\n",
                "\n",
                "        errors[sheet] = gener(tmp, error)\n",
                "\n",
                "    print()\n",
                "\n",
                "\n",
                "with open('dict/extract.json', 'w') as f:\n",
                "    json.dump(errors, f, sort_keys=True, indent=4, ensure_ascii=False)\n"
            ],
            "outputs": [
                {
                    "output_type": "stream",
                    "name": "stdout",
                    "text": [
                        "生成字典：\n",
                        "/home/keae/Mould/data/2017年（9.18-9.24）品质异常一览表（修改）(1).xls: 传送模设计科,设计二科,设计一科,研磨组,车铣钻组,CNC组,线割组,\n",
                        "/home/keae/Mould/data/2017年（9.25-10.8）品质异常一览表（修改）(1).xls: 传送模设计科,设计二科,设计一科,研磨组,车铣钻组,CNC组,线割组,\n",
                        "/home/keae/Mould/data/改表2017年（9-01-9..10）.xls: 传送模设计科,设计二科,设计一科,研磨组,车铣钻组,存在空值,存在空值,存在空值,CNC组,线割组,\n",
                        "/home/keae/Mould/data/改表2017年（9.11-9.17）.xls: 传送模设计科,设计二科,设计一科,研磨组,存在空值,车铣钻组,CNC组,存在空值,线割组,\n"
                    ]
                }
            ],
            "metadata": {}
        },
        {
            "cell_type": "code",
            "execution_count": 3,
            "source": [
                "with open('dict/extract.json', 'r') as f:\n",
                "    extract = json.load(f)\n",
                "with open('dict/expert.json', 'r') as f:\n",
                "    expert = json.load(f)\n",
                "\n",
                "d = {}\n",
                "for sheet in sheets[:]:\n",
                "    d[sheet] = merge(extract[sheet], expert[sheet])\n",
                "\n",
                "\n",
                "with open('dict/merge.json', 'w') as f:\n",
                "    json.dump(d, f, sort_keys=True, indent=4, ensure_ascii=False)\n"
            ],
            "outputs": [],
            "metadata": {}
        },
        {
            "cell_type": "code",
            "execution_count": 3,
            "source": [
                "with open('dict/merge.json', 'r') as f:\n",
                "    merge = json.load(f)\n",
                "\n",
                "for sheet in sheets[:]:\n",
                "    merge[sheet]['错误类型'] = rever(merge[sheet]['错误类型'])\n",
                "\n",
                "\n",
                "with open('dict/touse.json', 'w') as f:\n",
                "    json.dump(merge, f, sort_keys=True, indent=4, ensure_ascii=False)\n"
            ],
            "outputs": [],
            "metadata": {}
        }
    ],
    "metadata": {
        "orig_nbformat": 4,
        "language_info": {
            "name": "python",
            "version": "3.8.10",
            "mimetype": "text/x-python",
            "codemirror_mode": {
                "name": "ipython",
                "version": 3
            },
            "pygments_lexer": "ipython3",
            "nbconvert_exporter": "python",
            "file_extension": ".py"
        },
        "kernelspec": {
            "name": "python3",
            "display_name": "Python 3.8.10 64-bit ('.venv': venv)"
        },
        "interpreter": {
            "hash": "a75423c98e6c0971b3d6ff8051a5d6f212600a25849ebcd45f69d1b1de11c3c2"
        }
    },
    "nbformat": 4,
    "nbformat_minor": 2
}