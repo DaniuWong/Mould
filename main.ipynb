{
    "cells": [
        {
            "cell_type": "code",
            "execution_count": 2,
            "source": [
                "import os\n",
                "import pandas as pd"
            ],
            "outputs": [],
            "metadata": {}
        },
        {
            "cell_type": "code",
            "execution_count": 3,
            "source": [
                "with open('dict/defdict.txt', 'r') as f:\n",
                "    l = [line.strip('\\n') for line in f.readlines()]"
            ],
            "outputs": [],
            "metadata": {}
        },
        {
            "cell_type": "code",
            "execution_count": 4,
            "source": [
                "path = '/home/keae/Mould/data'\n",
                "for file in os.listdir(path):\n",
                "    df = pd.read_excel(os.path.join(path, file),\n",
                "                       header=1, sheet_name='传送模设计科')\n",
                "    df = df[['异常单编码', '品管异常描述']]\n",
                "    df.insert(df.shape[1], '错误匹配', '')\n",
                "\n",
                "    for index, row in df.iterrows():\n",
                "        des = row['品管异常描述']\n",
                "        for s in l:\n",
                "            if des.find(s) != -1:\n",
                "                df.loc[index, '错误匹配'] = df.loc[index, '错误匹配']+s+','\n",
                "                # df.loc[index, '错误匹配'].strip(',')\n",
                "\n",
                "    print(df)\n",
                "    print(os.path.join(path, file))\n",
                "    break\n"
            ],
            "outputs": [
                {
                    "output_type": "stream",
                    "name": "stdout",
                    "text": [
                        "    异常单编码                                             品管异常描述  \\\n",
                        "0   51389                 MGJ033-0106-0606-P1858压块设计未下图（未备料）   \n",
                        "1   51379  GL001-0202-P5821，P5822，P5823，刀口没有斜度.设计未标注，导致没加工斜度   \n",
                        "2   51329  MGJ033-0106-p1809A 平1812A 冲头与刀口对不上.3D的刀口处有个台阶。...   \n",
                        "3   51285                     GL001-0202-P7804镶块高度低于P7500镶块面   \n",
                        "4   51265                   标准件LY037-0205-S2018 无避位 （2件）设计错误   \n",
                        "5   51185             GL003-0202-P6008，因加工让位不够导致崩裂，烧焊返修后，新制。   \n",
                        "6   51146                       GL001-0202-P4502/P4503 设计漏下图   \n",
                        "7   51124  GL007-0202-P4077 P4078压板与GL007-0202-P4042上模导柱定...   \n",
                        "8   51122      CEN140-0707-P207A上模刀块。图档图层线是3D线，无法分解。此问题需要根治。   \n",
                        "9   51103                              GL001-0202-S4030 设计买错   \n",
                        "10  51085  GL001-0202-P7810 P7817 设计出错图，钳工要求设计出图软料新制不加工螺丝...   \n",
                        "11  51047                   MPC045-0102-P6809 设计出垫片不够导致加工量不足   \n",
                        "12  51031                        GL007-0102-P3308 有一螺丝孔设计漏标注   \n",
                        "13  51021                         MPC042-0101-P4807 与上模压料芯干涉   \n",
                        "14  51017              GL007-0102-P1509  有一处氮气弹簧冲击块无法安装，设计错误   \n",
                        "15  50843  SO033-0404-P4033  订单尺寸45L*73W*12T 图纸尺寸73L*48W*...   \n",
                        "\n",
                        "                     错误匹配  \n",
                        "0                     压块,  \n",
                        "1                          \n",
                        "2                          \n",
                        "3                          \n",
                        "4                          \n",
                        "5                          \n",
                        "6                          \n",
                        "7                     压板,  \n",
                        "8                          \n",
                        "9                          \n",
                        "10  出错图,出图,螺丝孔,型面,配钻,不加工,  \n",
                        "11                    垫片,  \n",
                        "12                   螺丝孔,  \n",
                        "13                         \n",
                        "14                         \n",
                        "15                         \n",
                        "/home/keae/Mould/data/9.11-9.17.xls\n"
                    ]
                }
            ],
            "metadata": {}
        }
    ],
    "metadata": {
        "orig_nbformat": 4,
        "language_info": {
            "name": "python",
            "version": "3.8.10",
            "mimetype": "text/x-python",
            "codemirror_mode": {
                "name": "ipython",
                "version": 3
            },
            "pygments_lexer": "ipython3",
            "nbconvert_exporter": "python",
            "file_extension": ".py"
        },
        "kernelspec": {
            "name": "python3",
            "display_name": "Python 3.8.10 64-bit ('.venv': venv)"
        },
        "interpreter": {
            "hash": "a75423c98e6c0971b3d6ff8051a5d6f212600a25849ebcd45f69d1b1de11c3c2"
        }
    },
    "nbformat": 4,
    "nbformat_minor": 2
}