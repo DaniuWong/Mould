{
    "cells": [
        {
            "cell_type": "code",
            "execution_count": 1,
            "source": [
                "import os\n",
                "import pandas as pd\n",
                "import json\n"
            ],
            "outputs": [],
            "metadata": {}
        },
        {
            "cell_type": "code",
            "execution_count": 2,
            "source": [
                "# 读取字典\n",
                "with open('dict/touse.json', 'r') as f:\n",
                "    error = json.load(f)\n",
                "    error=error['传送模设计科']\n",
                "\n",
                "path = '/home/keae/Mould/data'\n",
                "filelist = os.listdir(path)\n",
                "filelist.sort()\n",
                "\n",
                "# 识别错误\n",
                "for file in filelist[1:4]:\n",
                "    df = pd.read_excel(os.path.join(path, file),\n",
                "                       header=1, sheet_name='传送模设计科')\n",
                "    df = df[['异常单编码', '品管异常描述']]\n",
                "    df = df.replace('\\n', '', regex=True)\n",
                "    df.insert(df.shape[1], '错误位置', '')\n",
                "    df.insert(df.shape[1], '错误类型', '')\n",
                "    df.insert(df.shape[1], '原文错误', '')\n",
                "\n",
                "    for index, row in df.iterrows():\n",
                "        des = row['品管异常描述']\n",
                "\n",
                "        for s in error['错误位置']:\n",
                "            if des.find(s) != -1:\n",
                "                df.loc[index, '错误位置'] = df.loc[index, '错误位置']+s+','\n",
                "        df.loc[index, '错误位置'] = df.loc[index, '错误位置'].strip(',')\n",
                "\n",
                "        for k, v in error['错误类型'].items():\n",
                "            if des.find(k) != -1:\n",
                "                df.loc[index, '错误类型'] = df.loc[index, '错误类型']+v+','\n",
                "                df.loc[index, '原文错误'] = df.loc[index, '原文错误']+k+','\n",
                "        df.loc[index, '错误类型'] = df.loc[index, '错误类型'].strip(',')\n",
                "        df.loc[index, '原文错误'] = df.loc[index, '原文错误'].strip(',')\n",
                "\n",
                "    # print(df)\n",
                "    print(os.path.join(path, file))\n",
                "\n",
                "    df.to_excel('results/'+file+'.xls')\n",
                "\n",
                "    # break\n"
            ],
            "outputs": [
                {
                    "output_type": "stream",
                    "name": "stdout",
                    "text": [
                        "/home/keae/Mould/data/9.11-9.17.xls\n",
                        "/home/keae/Mould/data/9.18-9.24.xls\n"
                    ]
                },
                {
                    "output_type": "stream",
                    "name": "stderr",
                    "text": [
                        "/tmp/ipykernel_5322/410487909.py:36: FutureWarning: As the xlwt package is no longer maintained, the xlwt engine will be removed in a future version of pandas. This is the only engine in pandas that supports writing in the xls format. Install openpyxl and write to an xlsx file instead. You can set the option io.excel.xls.writer to 'xlwt' to silence this warning. While this option is deprecated and will also raise a warning, it can be globally set and the warning suppressed.\n",
                        "  df.to_excel('results/'+file+'.xls')\n"
                    ]
                },
                {
                    "output_type": "stream",
                    "name": "stdout",
                    "text": [
                        "/home/keae/Mould/data/9.25-10.8.xls\n"
                    ]
                }
            ],
            "metadata": {}
        },
        {
            "cell_type": "code",
            "execution_count": 36,
            "source": [
                "errors = {}\n",
                "\n",
                "path = '/home/keae/Mould/data'\n",
                "filelist = os.listdir(path)\n",
                "filelist.sort()\n",
                "\n",
                "# 根据标注生成字典\n",
                "error = {'错误位置': [], '错误类型': {}}\n",
                "for file in filelist[1:3]:\n",
                "    print(os.path.join(path, file))\n",
                "\n",
                "    df = pd.read_excel(os.path.join(path, file), header=1, sheet_name='传送模设计科')\n",
                "    df = df[['异常单编码', '品管异常描述', '错误位置1', '错误位置2', '原错误类型', '归纳错误类型']]\n",
                "    df = df.replace('\\n', '', regex=True)\n",
                "\n",
                "    for index, row in df.iterrows():\n",
                "        if not pd.isna(row['错误位置1']) and row['错误位置1'] not in error['错误位置']:\n",
                "            error['错误位置'].append(row['错误位置1'])\n",
                "        if not pd.isna(row['错误位置2']) and row['错误位置2'] not in error['错误位置']:\n",
                "            error['错误位置'].append(row['错误位置2'])\n",
                "\n",
                "        if not pd.isna(row['归纳错误类型']):\n",
                "            if row['归纳错误类型'] not in error['错误类型']:\n",
                "                error['错误类型'][row['归纳错误类型']] = []\n",
                "\n",
                "            if row['原错误类型'] not in error['错误类型'][row['归纳错误类型']]:\n",
                "                error['错误类型'][row['归纳错误类型']].append(row['原错误类型'])\n",
                "\n",
                "        # break\n",
                "\n",
                "    # break\n",
                "\n",
                "errors['传送模设计科'] = error\n",
                "with open('dict/errors.json', 'w') as f:\n",
                "    json.dump(errors, f, sort_keys=True, indent=4, ensure_ascii=False)\n",
                "\n",
                "# print(errors)\n"
            ],
            "outputs": [
                {
                    "output_type": "stream",
                    "name": "stdout",
                    "text": [
                        "/home/keae/Mould/data/9.11-9.17.xls\n",
                        "/home/keae/Mould/data/9.18-9.24.xls\n"
                    ]
                }
            ],
            "metadata": {}
        },
        {
            "cell_type": "code",
            "execution_count": 37,
            "source": [
                "from copy import deepcopy\n",
                "with open('dict/errors.json', 'r') as f:\n",
                "    errors = json.load(f)\n",
                "with open('dict/expert.json', 'r') as f:\n",
                "    expert = json.load(f)\n",
                "errors = errors['传送模设计科']\n",
                "expert = expert['传送模设计科']\n",
                "\n",
                "# 将生成字典和人工字典合并\n",
                "for i in expert['错误位置']:\n",
                "    if i not in errors['错误位置']:\n",
                "        errors['错误位置'].append(i)\n",
                "\n",
                "for k, v in expert['错误类型'].items():\n",
                "    errors['错误类型'].setdefault(k, []).extend(v)\n",
                "\n",
                "touse = deepcopy(errors)\n",
                "touse['错误类型'] = {}\n",
                "for k, v in errors['错误类型'].items():\n",
                "    for e in v:\n",
                "        touse['错误类型'][e] = k\n",
                "\n",
                "touse = {'传送模设计科': touse}\n",
                "with open('dict/touse.json', 'w') as f:\n",
                "    json.dump(touse, f, sort_keys=True, indent=4, ensure_ascii=False)\n"
            ],
            "outputs": [],
            "metadata": {}
        }
    ],
    "metadata": {
        "orig_nbformat": 4,
        "language_info": {
            "name": "python",
            "version": "3.8.10",
            "mimetype": "text/x-python",
            "codemirror_mode": {
                "name": "ipython",
                "version": 3
            },
            "pygments_lexer": "ipython3",
            "nbconvert_exporter": "python",
            "file_extension": ".py"
        },
        "kernelspec": {
            "name": "python3",
            "display_name": "Python 3.8.10 64-bit ('.venv': venv)"
        },
        "interpreter": {
            "hash": "a75423c98e6c0971b3d6ff8051a5d6f212600a25849ebcd45f69d1b1de11c3c2"
        }
    },
    "nbformat": 4,
    "nbformat_minor": 2
}