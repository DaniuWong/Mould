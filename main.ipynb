{
    "cells": [
        {
            "cell_type": "code",
            "execution_count": 1,
            "source": [
                "import os\n",
                "import pandas as pd\n",
                "import json\n",
                "\n",
                "from dict_process import *\n",
                "\n",
                "sheets = ['传送模设计科', '设计二科', '设计一科', '研磨', '车铣钻', 'CNC', '线割组']\n"
            ],
            "outputs": [],
            "metadata": {}
        },
        {
            "cell_type": "code",
            "execution_count": 3,
            "source": [
                "# 读取字典\n",
                "with open('dict/touse.json', 'r') as f:\n",
                "    errors = json.load(f)\n",
                "\n",
                "path = '/home/keae/Mould/data'\n",
                "filelist = os.listdir(path)\n",
                "filelist.sort()\n",
                "\n",
                "print('识别错误')\n",
                "for file in filelist[1:4]:\n",
                "    print(os.path.join(path, file))\n",
                "    dfs = pd.read_excel(os.path.join(path, file), header=1, sheet_name=None)\n",
                "\n",
                "    writer = pd.ExcelWriter('results/'+file+'.xls')\n",
                "    for sheet in sheets[0:1]:\n",
                "        df = dfs[sheet]\n",
                "        df = df[['异常单编码', '品管异常描述']]\n",
                "        df = df.replace('\\n', '', regex=True)\n",
                "        df[['错误位置', '错误类型', '原文错误']] = pd.DataFrame([['', '', '']], index=df.index)\n",
                "\n",
                "        dfs[sheet] = recog(df, errors[sheet])\n",
                "        dfs[sheet].to_excel(writer, sheet)\n",
                "\n",
                "    writer.save()\n"
            ],
            "outputs": [
                {
                    "output_type": "stream",
                    "name": "stdout",
                    "text": [
                        "    异常单编码                                             品管异常描述 错误位置 错误类型 原文错误\n",
                        "0   51389                 MGJ033-0106-0606-P1858压块设计未下图（未备料）               \n",
                        "1   51379  GL001-0202-P5821，P5822，P5823，刀口没有斜度.设计未标注，导致没加工斜度               \n",
                        "2   51329  MGJ033-0106-p1809A 平1812A 冲头与刀口对不上.3D的刀口处有个台阶。...               \n",
                        "3   51285                     GL001-0202-P7804镶块高度低于P7500镶块面               \n",
                        "4   51265                   标准件LY037-0205-S2018 无避位 （2件）设计错误               \n",
                        "5   51185             GL003-0202-P6008，因加工让位不够导致崩裂，烧焊返修后，新制。               \n",
                        "6   51146                       GL001-0202-P4502/P4503 设计漏下图               \n",
                        "7   51124  GL007-0202-P4077 P4078压板与GL007-0202-P4042上模导柱定...               \n",
                        "8   51122      CEN140-0707-P207A上模刀块。图档图层线是3D线，无法分解。此问题需要根治。               \n",
                        "9   51103                              GL001-0202-S4030 设计买错               \n",
                        "10  51085  GL001-0202-P7810 P7817 设计出错图，钳工要求设计出图软料新制不加工螺丝...               \n",
                        "11  51047                   MPC045-0102-P6809 设计出垫片不够导致加工量不足               \n",
                        "12  51031                        GL007-0102-P3308 有一螺丝孔设计漏标注               \n",
                        "13  51021                         MPC042-0101-P4807 与上模压料芯干涉               \n",
                        "14  51017              GL007-0102-P1509  有一处氮气弹簧冲击块无法安装，设计错误               \n",
                        "15  50843  SO033-0404-P4033  订单尺寸45L*73W*12T 图纸尺寸73L*48W*...               \n",
                        "    异常单编码                                             品管异常描述 错误位置 错误类型 原文错误\n",
                        "0   51990                        GL007-0202-P7001  与侧整氮气缸有干涉               \n",
                        "1   51984                       GL007-0202-P7103    设计图档少画一块               \n",
                        "2   51964     LY037-0305-P1020/P1029与上模压板LY037-0305-P1016A干涉               \n",
                        "3   51936                MPC040-0101-P7029/P7030对应字印位置，设计有避空               \n",
                        "4   51931  KA040-0202-P5001浮料板的螺丝牙孔M10，对应的p5036-p5040的过孔是...               \n",
                        "5   51851  so034-0104-p1817，-0204-p2876，-0304-p3810以上3个页码...               \n",
                        "6   51835                      GL007--0202-p5029 钳工丢失，需重做 急件               \n",
                        "7   51825                                       mpc039字印孔位不对               \n",
                        "8   51777                      GL007-0202-P4016 与P4001销钉孔有干涉               \n",
                        "9   51778                      GL007-0202-P6002 与P4001销钉孔有干涉               \n",
                        "10  51776                      GL007-0202-P7017 与P4001销钉孔有干涉               \n",
                        "11  51775                      GL007-0202-P7016 与P4001销钉孔有干涉               \n",
                        "12  51699       VK004-0102-P1001 上模座安装S4022 S4023滑块导板处CNC未打点               \n",
                        "13  51616  GL007-0202   OP50站    由于上次漏画销钉孔，造成OP50站不能一体加工完...               \n",
                        "14  51615    GL001-0102-P3025与P3029   B1标注螺丝孔与P3029有干涉无法正常安装               \n",
                        "15  51572  MPC040-0101-P602-MO   S5010/S6009安装螺丝头露出来.与到底块...               \n",
                        "16  51566              MPC042-0101-P2003 P2004 到底标记安装孔大 设计错误               \n",
                        "17  51482                      MES026-0102-P1032 垫板设计漏标注一个过孔               \n",
                        "18  51468  GL001-0202-P5308图纸标注备料与P5308A数量6个，P5803A图纸标注数量...               \n",
                        "19  51449                   GL001-0102-P2001导柱孔设计标注错误，导致导柱松动               \n",
                        "20  51445  so034-0205-p2805. 设计片体加工与图纸不符  图纸要求46MM,cnc片体开...               \n",
                        "21  51441  PWO008-0809-B17603-000057A/64A加工不到位，工件在品质部测量室，...               \n",
                        "22  51419                       MGJ031-0101-P058 设计片体加工与图纸不符               \n",
                        "    异常单编码                                             品管异常描述 错误位置 错误类型 原文错误\n",
                        "0   52804              MES010-0101-P3012   P3011 设计图纸宽度没精度符号               \n",
                        "1   52750  SO034-0505-P5825,P5803与下模座P5801合销孔不匹配，无法安装，设计图...               \n",
                        "2   52746  GL002-0202-P5040  宽度多出1.16mm  GL002-0202-P5041...               \n",
                        "3   52732  VK004-0202-P7011 挂台深度浅8mm.对应的冲头挂台是16mm .设计图档画浅8mm               \n",
                        "4   52721  VK004-0202-P7031 冲头中间线割处设计没画穿线孔（导致钻床没加工穿线孔）.线割...               \n",
                        "5   52645  KA040-0202-P4030.螺丝过孔设计没注解沉头， p4030.p4027设计宽度没...               \n",
                        "6   52554                    GL007-0102--P3815 与P3814设计孔位对不上               \n",
                        "7   52534    MPC043-0101-P4012 设计避让不够，上机时撞刀，导致下模刀块的定位键处模座有裂纹               \n",
                        "8   52545           MES010-0101-P1008 E2背沉头设计标注留底深35mm，导致无沉头               \n",
                        "9   52532                   MPC043-OP50下模斜契与V导有干涉,导致压坏两块铜制V导               \n",
                        "10  52413                       KA040-0202-P6001-OB压料板2D刀块干涉               \n",
                        "11  52406           MES005-0102-P103-MK 与对应的P2504螺丝孔对不上，设计画偏               \n",
                        "12  52302                                     MPC047 氮气串联管太短               \n",
                        "13  52221                           GL007-0102-P3806 设计漏出线割图               \n",
                        "14  52172  MES010-0101-P6302 48㎜通孔加工，应是CNC加工或线割加工的，不是车铣钻加...               \n",
                        "15  52137                               GL001-0202P7803设计漏下图               \n",
                        "16  52131                          GL001-0202-P7803开刀口设计漏下该图               \n",
                        "17  52047               MES005-0202-P2002 下模座两处安装氮气弹簧避让设计不够深               \n"
                    ]
                }
            ],
            "metadata": {}
        },
        {
            "cell_type": "code",
            "execution_count": 4,
            "source": [
                "path = '/home/keae/Mould/data'\n",
                "filelist = os.listdir(path)\n",
                "filelist.sort()\n",
                "\n",
                "errors = {}\n",
                "print('生成字典：')\n",
                "for file in filelist[1:3]:\n",
                "    print(os.path.join(path, file), end=': ')\n",
                "\n",
                "    df = pd.read_excel(os.path.join(path, file), header=1, sheet_name=None)\n",
                "    for sheet in sheets[0:1]:\n",
                "        print(sheet, end=',')\n",
                "        tmp = df[sheet]\n",
                "        tmp = tmp[['异常单编码', '品管异常描述', '错误位置1', '错误位置2', '原错误类型', '归纳错误类型']]\n",
                "        tmp = tmp.replace('\\n', '', regex=True)\n",
                "\n",
                "        if sheet in errors:\n",
                "            error = errors[sheet]\n",
                "        else:\n",
                "            error = {'错误位置': [], '错误类型': {}}\n",
                "\n",
                "        errors[sheet] = gener(tmp, error)\n",
                "\n",
                "    print()\n",
                "\n",
                "\n",
                "with open('dict/extract.json', 'w') as f:\n",
                "    json.dump(errors, f, sort_keys=True, indent=4, ensure_ascii=False)\n",
                "\n",
                "# print(errors)\n"
            ],
            "outputs": [
                {
                    "output_type": "stream",
                    "name": "stdout",
                    "text": [
                        "生成字典：\n",
                        "/home/keae/Mould/data/9.11-9.17.xls: 传送模设计科,\n",
                        "/home/keae/Mould/data/9.18-9.24.xls: 传送模设计科,\n"
                    ]
                }
            ],
            "metadata": {}
        },
        {
            "cell_type": "code",
            "execution_count": 6,
            "source": [
                "with open('dict/extract.json', 'r') as f:\n",
                "    extract = json.load(f)\n",
                "with open('dict/expert.json', 'r') as f:\n",
                "    expert = json.load(f)\n",
                "\n",
                "d = {}\n",
                "for sheet in sheets[0:1]:\n",
                "    d[sheet] = merge(extract[sheet], expert[sheet])\n",
                "\n",
                "\n",
                "with open('dict/merge.json', 'w') as f:\n",
                "    json.dump(d, f, sort_keys=True, indent=4, ensure_ascii=False)\n"
            ],
            "outputs": [],
            "metadata": {}
        },
        {
            "cell_type": "code",
            "execution_count": 2,
            "source": [
                "with open('dict/merge.json', 'r') as f:\n",
                "    merge = json.load(f)\n",
                "\n",
                "for sheet in sheets[0:1]:\n",
                "    merge[sheet]['错误类型']=rever(merge[sheet]['错误类型'])\n",
                "\n",
                "\n",
                "with open('dict/touse.json', 'w') as f:\n",
                "    json.dump(merge, f, sort_keys=True, indent=4, ensure_ascii=False)\n"
            ],
            "outputs": [
                {
                    "output_type": "stream",
                    "name": "stdout",
                    "text": [
                        "{'不够': ['不够'], '加工错误': ['未打点', '少加工', '与图纸不符', '加工不到位'], '对不上': ['对不上', '对应不上', '孔位不对'], '少画': ['少画'], '尺寸不匹配': ['尺寸不匹配'], '干涉': ['有干涉'], '无法分解': ['无法分解'], '无避位': ['无避位'], '有干涉': ['有干涉', '干涉'], '未标注': ['未标注'], '标注错误': ['标注错误'], '漏下图': ['未下图', '漏下图'], '漏标注': ['漏标注'], '让位不够': ['让位不够'], '设计买错': ['设计买错'], '设计错误': ['出错图', '设计错误', '设计有避空', '设计有误', '漏画销钉孔', '避空'], '钳工丢失': ['钳工丢失'], '高度不匹配': ['高度低于']}\n",
                        "{'不够': '不够', '未打点': '加工错误', '少加工': '加工错误', '与图纸不符': '加工错误', '加工不到位': '加工错误', '对不上': '对不上', '对应不上': '对不上', '孔位不对': '对不上', '少画': '少画', '尺寸不匹配': '尺寸不匹配', '有干涉': '有干涉', '无法分解': '无法分解', '无避位': '无避位', '干涉': '有干涉', '未标注': '未标注', '标注错误': '标注错误', '未下图': '漏下图', '漏下图': '漏下图', '漏标注': '漏标注', '让位不够': '让位不够', '设计买错': '设计买错', '出错图': '设计错误', '设计错误': '设计错误', '设计有避空': '设计错误', '设计有误': '设计错误', '漏画销钉孔': '设计错误', '避空': '设计错误', '钳工丢失': '钳工丢失', '高度低于': '高度不匹配'}\n"
                    ]
                }
            ],
            "metadata": {}
        }
    ],
    "metadata": {
        "orig_nbformat": 4,
        "language_info": {
            "name": "python",
            "version": "3.8.10",
            "mimetype": "text/x-python",
            "codemirror_mode": {
                "name": "ipython",
                "version": 3
            },
            "pygments_lexer": "ipython3",
            "nbconvert_exporter": "python",
            "file_extension": ".py"
        },
        "kernelspec": {
            "name": "python3",
            "display_name": "Python 3.8.10 64-bit ('.venv': venv)"
        },
        "interpreter": {
            "hash": "a75423c98e6c0971b3d6ff8051a5d6f212600a25849ebcd45f69d1b1de11c3c2"
        }
    },
    "nbformat": 4,
    "nbformat_minor": 2
}